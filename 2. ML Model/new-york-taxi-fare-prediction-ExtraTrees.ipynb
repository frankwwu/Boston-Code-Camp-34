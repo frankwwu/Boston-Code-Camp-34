{
 "cells": [
  {
   "cell_type": "markdown",
   "metadata": {
    "_cell_guid": "043fc442-09e8-4e46-aafc-58acd698869c",
    "_uuid": "465ea7040afeed14b9f6d0ab0b149094f0d2a0c5"
   },
   "source": [
    "# New York City Taxi Fare Prediction with Extra Trees"
   ]
  },
  {
   "cell_type": "markdown",
   "metadata": {},
   "source": [
    "Please download data at [New York City Taxi Fare Prediction](https://www.kaggle.com/competitions/new-york-city-taxi-fare-prediction/data)"
   ]
  },
  {
   "cell_type": "code",
   "execution_count": 1,
   "metadata": {
    "_cell_guid": "b1076dfc-b9ad-4769-8c92-a6c4dae69d19",
    "_uuid": "8f2839f25d086af736a60e9eeb907d3b93b6e0e5",
    "execution": {
     "iopub.execute_input": "2023-03-21T17:31:22.114979Z",
     "iopub.status.busy": "2023-03-21T17:31:22.114382Z",
     "iopub.status.idle": "2023-03-21T17:31:22.133037Z",
     "shell.execute_reply": "2023-03-21T17:31:22.131626Z",
     "shell.execute_reply.started": "2023-03-21T17:31:22.114929Z"
    }
   },
   "outputs": [],
   "source": [
    "import numpy as np \n",
    "import pandas as pd\n",
    "from sklearn.ensemble import ExtraTreesRegressor\n",
    "from sklearn.metrics import mean_absolute_error, mean_squared_error, r2_score\n",
    "import inspect\n",
    "import matplotlib.pyplot as plt\n",
    "import matplotlib.colors as mcolors\n",
    "import os\n",
    "from joblib import dump, load\n",
    "import time"
   ]
  },
  {
   "cell_type": "markdown",
   "metadata": {},
   "source": [
    "## Dataset input\n",
    "\n",
    "Read a subset of the training dataset since it's very big, and takes long time to read and train."
   ]
  },
  {
   "cell_type": "code",
   "execution_count": 2,
   "metadata": {},
   "outputs": [],
   "source": [
    "train_file = '../new-york-city-taxi-fare-prediction/train.csv'\n",
    "test_file = '../new-york-city-taxi-fare-prediction/test.csv'\n",
    "if os.path.isfile(train_file) == False or os.path.isfile(test_file) == False:\n",
    "    print(\"Please download data at https://www.kaggle.com/competitions/new-york-city-taxi-fare-prediction/data\")\n",
    "    exit()"
   ]
  },
  {
   "cell_type": "code",
   "execution_count": 3,
   "metadata": {
    "_uuid": "51877678b96aff3b9b11ff9e2c2b2e157d269d3c",
    "execution": {
     "iopub.status.busy": "2023-03-21T17:30:29.321575Z",
     "iopub.status.idle": "2023-03-21T17:30:29.322170Z"
    }
   },
   "outputs": [],
   "source": [
    "# train: 55423480 rows; 5+ GB\n",
    "# test: 9914 rows\n",
    "train = pd.read_csv(train_file, nrows=100000)\n",
    "test = pd.read_csv(test_file)\n",
    "#train = pd.read_csv('/kaggle/input/new-york-city-taxi-fare-prediction/train.csv', nrows=10000)\n",
    "#test = pd.read_csv('/kaggle/input/new-york-city-taxi-fare-prediction/test.csv')"
   ]
  },
  {
   "cell_type": "markdown",
   "metadata": {},
   "source": [
    "## Feature engineering"
   ]
  },
  {
   "cell_type": "markdown",
   "metadata": {},
   "source": [
    "### Cleaning the data"
   ]
  },
  {
   "cell_type": "code",
   "execution_count": 4,
   "metadata": {
    "execution": {
     "iopub.status.busy": "2023-03-21T17:30:29.322886Z",
     "iopub.status.idle": "2023-03-21T17:30:29.323496Z"
    }
   },
   "outputs": [],
   "source": [
    "train = train.query('fare_amount > 0')\n",
    "train.dropna(inplace = True)\n",
    "test.dropna(inplace = True)"
   ]
  },
  {
   "cell_type": "markdown",
   "metadata": {},
   "source": [
    "###  Manhattan distance\n",
    "The most important feature is the distance."
   ]
  },
  {
   "cell_type": "code",
   "execution_count": 5,
   "metadata": {
    "execution": {
     "iopub.status.busy": "2023-03-21T17:30:29.324130Z",
     "iopub.status.idle": "2023-03-21T17:30:29.324683Z"
    }
   },
   "outputs": [],
   "source": [
    "def manhattan_distance(latitude1, longitude1, latitude2, longitude2):\n",
    "    return np.abs(latitude1 - latitude2) + np.abs(longitude1 - longitude2)\n",
    "\n",
    "train['manhattan_distance'] = manhattan_distance(train['pickup_latitude'], train['pickup_longitude'], train['dropoff_latitude'], train['dropoff_longitude'])\n",
    "test['manhattan_distance'] = manhattan_distance(test['pickup_latitude'], test['pickup_longitude'], test['dropoff_latitude'], test['dropoff_longitude'])"
   ]
  },
  {
   "cell_type": "markdown",
   "metadata": {},
   "source": [
    "### Transforming the skewed data"
   ]
  },
  {
   "cell_type": "code",
   "execution_count": 6,
   "metadata": {},
   "outputs": [],
   "source": [
    "def transform(df):\n",
    "    # Use log transformation to remove skewness    \n",
    "    df['log_fare_amount'] = np.log(df['fare_amount'])\n",
    "    return df\n",
    "    \n",
    "train = transform(train)"
   ]
  },
  {
   "cell_type": "markdown",
   "metadata": {},
   "source": [
    "### Dropping the unused columns\n",
    "\n",
    "key and pickup_datetime are assumed negligible. Therefore drop them from the training and testing datasets."
   ]
  },
  {
   "cell_type": "code",
   "execution_count": 7,
   "metadata": {
    "execution": {
     "iopub.status.busy": "2023-03-21T17:30:29.329941Z",
     "iopub.status.idle": "2023-03-21T17:30:29.330460Z"
    }
   },
   "outputs": [],
   "source": [
    "fare_amount = train['fare_amount']\n",
    "ytrain = train['log_fare_amount']\n",
    "xtrain = train.drop(columns = ['fare_amount', 'log_fare_amount', 'key', 'pickup_datetime'], inplace = False)   \n",
    "test.drop(columns = ['key', 'pickup_datetime'], inplace = True, axis=1) "
   ]
  },
  {
   "cell_type": "markdown",
   "metadata": {},
   "source": [
    "## Training the model"
   ]
  },
  {
   "cell_type": "code",
   "execution_count": 8,
   "metadata": {
    "_cell_guid": "100b63ef-6bc5-4ff6-8f69-1dd5695c8710",
    "_uuid": "b7862c6742a4fbf87d690bd658e899b08e08d832",
    "execution": {
     "iopub.status.busy": "2023-03-21T17:30:29.328773Z",
     "iopub.status.idle": "2023-03-21T17:30:29.329309Z"
    },
    "scrolled": true
   },
   "outputs": [
    {
     "name": "stdout",
     "output_type": "stream",
     "text": [
      "(n_estimators=100, *, criterion='squared_error', max_depth=None, min_samples_split=2, min_samples_leaf=1, min_weight_fraction_leaf=0.0, max_features=1.0, max_leaf_nodes=None, min_impurity_decrease=0.0, bootstrap=False, oob_score=False, n_jobs=None, random_state=None, verbose=0, warm_start=False, ccp_alpha=0.0, max_samples=None)\n"
     ]
    }
   ],
   "source": [
    "model = ExtraTreesRegressor()\n",
    "hyperparams = inspect.signature(model.__init__)\n",
    "print(hyperparams)"
   ]
  },
  {
   "cell_type": "code",
   "execution_count": 9,
   "metadata": {
    "execution": {
     "iopub.status.busy": "2023-03-21T17:30:29.331069Z",
     "iopub.status.idle": "2023-03-21T17:30:29.331597Z"
    }
   },
   "outputs": [
    {
     "name": "stdout",
     "output_type": "stream",
     "text": [
      "0.320937442779541 min\n"
     ]
    }
   ],
   "source": [
    "start_time = time.time()\n",
    "\n",
    "model.fit(xtrain, ytrain)\n",
    "\n",
    "print((time.time() - start_time) / 60, \"min\")"
   ]
  },
  {
   "cell_type": "markdown",
   "metadata": {},
   "source": [
    "## Saving the model"
   ]
  },
  {
   "cell_type": "code",
   "execution_count": 10,
   "metadata": {
    "execution": {
     "iopub.status.busy": "2023-03-21T17:30:29.334607Z",
     "iopub.status.idle": "2023-03-21T17:30:29.335116Z"
    }
   },
   "outputs": [
    {
     "name": "stdout",
     "output_type": "stream",
     "text": [
      "1.19723623 GB\n"
     ]
    }
   ],
   "source": [
    "model_file = 'new_york_city_taxi_fare_et_100k_log_model.joblib'\n",
    "dump(model, model_file)\n",
    "print(os.stat(model_file).st_size / 1000000000, 'GB')"
   ]
  },
  {
   "cell_type": "markdown",
   "metadata": {},
   "source": [
    "## Evaluating the model"
   ]
  },
  {
   "cell_type": "code",
   "execution_count": 11,
   "metadata": {
    "_cell_guid": "ab44a784-37b7-4f63-bdc6-6af51cc95e29",
    "_uuid": "52b1254e73d38ddfaf06a771be28582a17499a29",
    "execution": {
     "iopub.status.busy": "2023-03-21T17:30:29.332257Z",
     "iopub.status.idle": "2023-03-21T17:30:29.332789Z"
    }
   },
   "outputs": [
    {
     "name": "stdout",
     "output_type": "stream",
     "text": [
      "Score:  0.9781980879580475\n"
     ]
    }
   ],
   "source": [
    "score = model.score(xtrain, ytrain)\n",
    "print(\"Score: \", score)"
   ]
  },
  {
   "cell_type": "code",
   "execution_count": 12,
   "metadata": {
    "execution": {
     "iopub.status.busy": "2023-03-21T17:30:29.333446Z",
     "iopub.status.idle": "2023-03-21T17:30:29.333964Z"
    }
   },
   "outputs": [
    {
     "data": {
      "image/png": "[encoded data removed]",
      "text/plain": [
       "<Figure size 600x600 with 1 Axes>"
      ]
     },
     "metadata": {},
     "output_type": "display_data"
    }
   ],
   "source": [
    "# plot the importances\n",
    "feature_names = np.array(xtrain.columns)\n",
    "importances = model.feature_importances_\n",
    "importances = importances / importances.max()\n",
    "sorted_idx = np.argsort(importances)\n",
    "barPos = np.arange(sorted_idx.shape[0]) + .5\n",
    "plt.figure(figsize=(6, 6))\n",
    "plt.title(\"Extra Trees Regressor Feature Importances\")\n",
    "plt.rc('xtick', labelsize = 16)\n",
    "plt.rc('ytick', labelsize = 16)\n",
    "cmap = mcolors.LinearSegmentedColormap.from_list(\"\", [\"blue\", \"green\", \"yellow\", \"orange\", \"red\"], N=6)\n",
    "plt.barh(barPos, importances[sorted_idx], align = 'center', color=cmap(barPos/barPos.max()))\n",
    "plt.yticks(barPos, feature_names[sorted_idx])\n",
    "plt.xlabel('Feature Importance')\n",
    "plt.show()"
   ]
  },
  {
   "cell_type": "markdown",
   "metadata": {},
   "source": [
    "## Loading the saved model to predict with the test dataset"
   ]
  },
  {
   "cell_type": "code",
   "execution_count": 13,
   "metadata": {
    "_cell_guid": "1953af8d-fcc8-4d56-8b92-ae0846b19ffd",
    "_uuid": "ed6085f8d34feabdb95e7937465b21077c75feb9",
    "execution": {
     "iopub.status.busy": "2023-03-21T17:30:29.335749Z",
     "iopub.status.idle": "2023-03-21T17:30:29.336280Z"
    }
   },
   "outputs": [],
   "source": [
    "loaded_model = load(model_file)\n",
    "predicted_log_fare = loaded_model.predict(test)"
   ]
  },
  {
   "cell_type": "code",
   "execution_count": 14,
   "metadata": {
    "execution": {
     "iopub.status.busy": "2023-03-21T17:30:29.336889Z",
     "iopub.status.idle": "2023-03-21T17:30:29.337435Z"
    }
   },
   "outputs": [
    {
     "data": {
      "text/plain": [
       "array([ 7.80268389,  9.90530699,  4.70057876, ..., 52.98709304,\n",
       "       19.780541  ,  6.20487658])"
      ]
     },
     "execution_count": 14,
     "metadata": {},
     "output_type": "execute_result"
    }
   ],
   "source": [
    "predicted_fare = np.exp(predicted_log_fare)\n",
    "predicted_fare"
   ]
  },
  {
   "cell_type": "code",
   "execution_count": null,
   "metadata": {},
   "outputs": [],
   "source": []
  }
 ],
 "metadata": {
  "kernelspec": {
   "display_name": "Python 3 (ipykernel)",
   "language": "python",
   "name": "python3"
  },
  "language_info": {
   "codemirror_mode": {
    "name": "ipython",
    "version": 3
   },
   "file_extension": ".py",
   "mimetype": "text/x-python",
   "name": "python",
   "nbconvert_exporter": "python",
   "pygments_lexer": "ipython3",
   "version": "3.9.7"
  }
 },
 "nbformat": 4,
 "nbformat_minor": 4
}
